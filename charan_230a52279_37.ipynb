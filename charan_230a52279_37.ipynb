{
  "nbformat": 4,
  "nbformat_minor": 0,
  "metadata": {
    "colab": {
      "provenance": [],
      "authorship_tag": "ABX9TyNfl0Yl8NZlEptxnvJWC7y/",
      "include_colab_link": true
    },
    "kernelspec": {
      "name": "python3",
      "display_name": "Python 3"
    },
    "language_info": {
      "name": "python"
    }
  },
  "cells": [
    {
      "cell_type": "markdown",
      "metadata": {
        "id": "view-in-github",
        "colab_type": "text"
      },
      "source": [
        "<a href=\"https://colab.research.google.com/github/Charannn96/STML_2303A52279/blob/main/charan_230a52279_37.ipynb\" target=\"_parent\"><img src=\"https://colab.research.google.com/assets/colab-badge.svg\" alt=\"Open In Colab\"/></a>"
      ]
    },
    {
      "cell_type": "code",
      "source": [
        "!pip install pyclustering\n",
        "import pandas as pd\n",
        "from pyclustering.cluster.kmedoids import kmedoids\n",
        "import numpy as np\n",
        "from sklearn.neighbors import KNeighborsClassifier\n",
        "from sklearn.metrics import accuracy_score\n",
        "from sklearn.model_selection import train_test_split\n",
        "from sklearn.preprocessing import LabelEncoder,StandardScaler\n",
        "from sklearn.metrics import classification_report\n",
        "!pip install seaborn matplotlib\n",
        "import seaborn as sns\n",
        "import matplotlib.pyplot as plt\n",
        "from sklearn.metrics import accuracy_score"
      ],
      "metadata": {
        "colab": {
          "base_uri": "https://localhost:8080/"
        },
        "id": "5Pdg8RzFzbx4",
        "outputId": "97aa3f3b-9828-4126-df2f-bf543578a867"
      },
      "execution_count": 50,
      "outputs": [
        {
          "output_type": "stream",
          "name": "stdout",
          "text": [
            "Requirement already satisfied: pyclustering in /usr/local/lib/python3.10/dist-packages (0.10.1.2)\n",
            "Requirement already satisfied: scipy>=1.1.0 in /usr/local/lib/python3.10/dist-packages (from pyclustering) (1.13.1)\n",
            "Requirement already satisfied: matplotlib>=3.0.0 in /usr/local/lib/python3.10/dist-packages (from pyclustering) (3.8.0)\n",
            "Requirement already satisfied: numpy>=1.15.2 in /usr/local/lib/python3.10/dist-packages (from pyclustering) (1.26.4)\n",
            "Requirement already satisfied: Pillow>=5.2.0 in /usr/local/lib/python3.10/dist-packages (from pyclustering) (11.0.0)\n",
            "Requirement already satisfied: contourpy>=1.0.1 in /usr/local/lib/python3.10/dist-packages (from matplotlib>=3.0.0->pyclustering) (1.3.1)\n",
            "Requirement already satisfied: cycler>=0.10 in /usr/local/lib/python3.10/dist-packages (from matplotlib>=3.0.0->pyclustering) (0.12.1)\n",
            "Requirement already satisfied: fonttools>=4.22.0 in /usr/local/lib/python3.10/dist-packages (from matplotlib>=3.0.0->pyclustering) (4.55.0)\n",
            "Requirement already satisfied: kiwisolver>=1.0.1 in /usr/local/lib/python3.10/dist-packages (from matplotlib>=3.0.0->pyclustering) (1.4.7)\n",
            "Requirement already satisfied: packaging>=20.0 in /usr/local/lib/python3.10/dist-packages (from matplotlib>=3.0.0->pyclustering) (24.2)\n",
            "Requirement already satisfied: pyparsing>=2.3.1 in /usr/local/lib/python3.10/dist-packages (from matplotlib>=3.0.0->pyclustering) (3.2.0)\n",
            "Requirement already satisfied: python-dateutil>=2.7 in /usr/local/lib/python3.10/dist-packages (from matplotlib>=3.0.0->pyclustering) (2.8.2)\n",
            "Requirement already satisfied: six>=1.5 in /usr/local/lib/python3.10/dist-packages (from python-dateutil>=2.7->matplotlib>=3.0.0->pyclustering) (1.16.0)\n",
            "Requirement already satisfied: seaborn in /usr/local/lib/python3.10/dist-packages (0.13.2)\n",
            "Requirement already satisfied: matplotlib in /usr/local/lib/python3.10/dist-packages (3.8.0)\n",
            "Requirement already satisfied: numpy!=1.24.0,>=1.20 in /usr/local/lib/python3.10/dist-packages (from seaborn) (1.26.4)\n",
            "Requirement already satisfied: pandas>=1.2 in /usr/local/lib/python3.10/dist-packages (from seaborn) (2.2.2)\n",
            "Requirement already satisfied: contourpy>=1.0.1 in /usr/local/lib/python3.10/dist-packages (from matplotlib) (1.3.1)\n",
            "Requirement already satisfied: cycler>=0.10 in /usr/local/lib/python3.10/dist-packages (from matplotlib) (0.12.1)\n",
            "Requirement already satisfied: fonttools>=4.22.0 in /usr/local/lib/python3.10/dist-packages (from matplotlib) (4.55.0)\n",
            "Requirement already satisfied: kiwisolver>=1.0.1 in /usr/local/lib/python3.10/dist-packages (from matplotlib) (1.4.7)\n",
            "Requirement already satisfied: packaging>=20.0 in /usr/local/lib/python3.10/dist-packages (from matplotlib) (24.2)\n",
            "Requirement already satisfied: pillow>=6.2.0 in /usr/local/lib/python3.10/dist-packages (from matplotlib) (11.0.0)\n",
            "Requirement already satisfied: pyparsing>=2.3.1 in /usr/local/lib/python3.10/dist-packages (from matplotlib) (3.2.0)\n",
            "Requirement already satisfied: python-dateutil>=2.7 in /usr/local/lib/python3.10/dist-packages (from matplotlib) (2.8.2)\n",
            "Requirement already satisfied: pytz>=2020.1 in /usr/local/lib/python3.10/dist-packages (from pandas>=1.2->seaborn) (2024.2)\n",
            "Requirement already satisfied: tzdata>=2022.7 in /usr/local/lib/python3.10/dist-packages (from pandas>=1.2->seaborn) (2024.2)\n",
            "Requirement already satisfied: six>=1.5 in /usr/local/lib/python3.10/dist-packages (from python-dateutil>=2.7->matplotlib) (1.16.0)\n"
          ]
        }
      ]
    },
    {
      "cell_type": "code",
      "execution_count": null,
      "metadata": {
        "colab": {
          "base_uri": "https://localhost:8080/",
          "height": 313
        },
        "id": "u_N_WTJUxv2S",
        "outputId": "b6dc17cd-1c6f-4cbe-ae4c-6992a287b026"
      },
      "outputs": [
        {
          "output_type": "execute_result",
          "data": {
            "text/plain": [
              "   Ticker        Date          Open          High           Low         Close  \\\n",
              "0   ^NSEI  2023-01-02  18131.699219  18215.150391  18086.500000  18197.449219   \n",
              "1  ^BSESN  2023-01-02  60871.238281  61222.789062  60764.628906  61167.789062   \n",
              "2   ^N100  2023-01-02   1232.619995   1252.880005   1232.619995   1252.020020   \n",
              "3    ^NYA  2023-01-03  15184.309570  15327.530273  15053.169922  15154.450195   \n",
              "4   ^IXIC  2023-01-03  10562.059570  10613.059570  10309.160156  10386.980469   \n",
              "\n",
              "      Adj Close        Volume  \n",
              "0  18197.449219  2.561000e+05  \n",
              "1  61167.789062  1.850000e+04  \n",
              "2   1252.020020  0.000000e+00  \n",
              "3  15154.450195  3.959140e+09  \n",
              "4  10386.980469  4.780650e+09  "
            ],
            "text/html": [
              "\n",
              "  <div id=\"df-6090b2c5-f621-41ad-92f6-98654d8b8239\" class=\"colab-df-container\">\n",
              "    <div>\n",
              "<style scoped>\n",
              "    .dataframe tbody tr th:only-of-type {\n",
              "        vertical-align: middle;\n",
              "    }\n",
              "\n",
              "    .dataframe tbody tr th {\n",
              "        vertical-align: top;\n",
              "    }\n",
              "\n",
              "    .dataframe thead th {\n",
              "        text-align: right;\n",
              "    }\n",
              "</style>\n",
              "<table border=\"1\" class=\"dataframe\">\n",
              "  <thead>\n",
              "    <tr style=\"text-align: right;\">\n",
              "      <th></th>\n",
              "      <th>Ticker</th>\n",
              "      <th>Date</th>\n",
              "      <th>Open</th>\n",
              "      <th>High</th>\n",
              "      <th>Low</th>\n",
              "      <th>Close</th>\n",
              "      <th>Adj Close</th>\n",
              "      <th>Volume</th>\n",
              "    </tr>\n",
              "  </thead>\n",
              "  <tbody>\n",
              "    <tr>\n",
              "      <th>0</th>\n",
              "      <td>^NSEI</td>\n",
              "      <td>2023-01-02</td>\n",
              "      <td>18131.699219</td>\n",
              "      <td>18215.150391</td>\n",
              "      <td>18086.500000</td>\n",
              "      <td>18197.449219</td>\n",
              "      <td>18197.449219</td>\n",
              "      <td>2.561000e+05</td>\n",
              "    </tr>\n",
              "    <tr>\n",
              "      <th>1</th>\n",
              "      <td>^BSESN</td>\n",
              "      <td>2023-01-02</td>\n",
              "      <td>60871.238281</td>\n",
              "      <td>61222.789062</td>\n",
              "      <td>60764.628906</td>\n",
              "      <td>61167.789062</td>\n",
              "      <td>61167.789062</td>\n",
              "      <td>1.850000e+04</td>\n",
              "    </tr>\n",
              "    <tr>\n",
              "      <th>2</th>\n",
              "      <td>^N100</td>\n",
              "      <td>2023-01-02</td>\n",
              "      <td>1232.619995</td>\n",
              "      <td>1252.880005</td>\n",
              "      <td>1232.619995</td>\n",
              "      <td>1252.020020</td>\n",
              "      <td>1252.020020</td>\n",
              "      <td>0.000000e+00</td>\n",
              "    </tr>\n",
              "    <tr>\n",
              "      <th>3</th>\n",
              "      <td>^NYA</td>\n",
              "      <td>2023-01-03</td>\n",
              "      <td>15184.309570</td>\n",
              "      <td>15327.530273</td>\n",
              "      <td>15053.169922</td>\n",
              "      <td>15154.450195</td>\n",
              "      <td>15154.450195</td>\n",
              "      <td>3.959140e+09</td>\n",
              "    </tr>\n",
              "    <tr>\n",
              "      <th>4</th>\n",
              "      <td>^IXIC</td>\n",
              "      <td>2023-01-03</td>\n",
              "      <td>10562.059570</td>\n",
              "      <td>10613.059570</td>\n",
              "      <td>10309.160156</td>\n",
              "      <td>10386.980469</td>\n",
              "      <td>10386.980469</td>\n",
              "      <td>4.780650e+09</td>\n",
              "    </tr>\n",
              "  </tbody>\n",
              "</table>\n",
              "</div>\n",
              "    <div class=\"colab-df-buttons\">\n",
              "\n",
              "  <div class=\"colab-df-container\">\n",
              "    <button class=\"colab-df-convert\" onclick=\"convertToInteractive('df-6090b2c5-f621-41ad-92f6-98654d8b8239')\"\n",
              "            title=\"Convert this dataframe to an interactive table.\"\n",
              "            style=\"display:none;\">\n",
              "\n",
              "  <svg xmlns=\"http://www.w3.org/2000/svg\" height=\"24px\" viewBox=\"0 -960 960 960\">\n",
              "    <path d=\"M120-120v-720h720v720H120Zm60-500h600v-160H180v160Zm220 220h160v-160H400v160Zm0 220h160v-160H400v160ZM180-400h160v-160H180v160Zm440 0h160v-160H620v160ZM180-180h160v-160H180v160Zm440 0h160v-160H620v160Z\"/>\n",
              "  </svg>\n",
              "    </button>\n",
              "\n",
              "  <style>\n",
              "    .colab-df-container {\n",
              "      display:flex;\n",
              "      gap: 12px;\n",
              "    }\n",
              "\n",
              "    .colab-df-convert {\n",
              "      background-color: #E8F0FE;\n",
              "      border: none;\n",
              "      border-radius: 50%;\n",
              "      cursor: pointer;\n",
              "      display: none;\n",
              "      fill: #1967D2;\n",
              "      height: 32px;\n",
              "      padding: 0 0 0 0;\n",
              "      width: 32px;\n",
              "    }\n",
              "\n",
              "    .colab-df-convert:hover {\n",
              "      background-color: #E2EBFA;\n",
              "      box-shadow: 0px 1px 2px rgba(60, 64, 67, 0.3), 0px 1px 3px 1px rgba(60, 64, 67, 0.15);\n",
              "      fill: #174EA6;\n",
              "    }\n",
              "\n",
              "    .colab-df-buttons div {\n",
              "      margin-bottom: 4px;\n",
              "    }\n",
              "\n",
              "    [theme=dark] .colab-df-convert {\n",
              "      background-color: #3B4455;\n",
              "      fill: #D2E3FC;\n",
              "    }\n",
              "\n",
              "    [theme=dark] .colab-df-convert:hover {\n",
              "      background-color: #434B5C;\n",
              "      box-shadow: 0px 1px 3px 1px rgba(0, 0, 0, 0.15);\n",
              "      filter: drop-shadow(0px 1px 2px rgba(0, 0, 0, 0.3));\n",
              "      fill: #FFFFFF;\n",
              "    }\n",
              "  </style>\n",
              "\n",
              "    <script>\n",
              "      const buttonEl =\n",
              "        document.querySelector('#df-6090b2c5-f621-41ad-92f6-98654d8b8239 button.colab-df-convert');\n",
              "      buttonEl.style.display =\n",
              "        google.colab.kernel.accessAllowed ? 'block' : 'none';\n",
              "\n",
              "      async function convertToInteractive(key) {\n",
              "        const element = document.querySelector('#df-6090b2c5-f621-41ad-92f6-98654d8b8239');\n",
              "        const dataTable =\n",
              "          await google.colab.kernel.invokeFunction('convertToInteractive',\n",
              "                                                    [key], {});\n",
              "        if (!dataTable) return;\n",
              "\n",
              "        const docLinkHtml = 'Like what you see? Visit the ' +\n",
              "          '<a target=\"_blank\" href=https://colab.research.google.com/notebooks/data_table.ipynb>data table notebook</a>'\n",
              "          + ' to learn more about interactive tables.';\n",
              "        element.innerHTML = '';\n",
              "        dataTable['output_type'] = 'display_data';\n",
              "        await google.colab.output.renderOutput(dataTable, element);\n",
              "        const docLink = document.createElement('div');\n",
              "        docLink.innerHTML = docLinkHtml;\n",
              "        element.appendChild(docLink);\n",
              "      }\n",
              "    </script>\n",
              "  </div>\n",
              "\n",
              "\n",
              "<div id=\"df-2f6e528d-a895-4fb9-b8cb-61173bd0d32b\">\n",
              "  <button class=\"colab-df-quickchart\" onclick=\"quickchart('df-2f6e528d-a895-4fb9-b8cb-61173bd0d32b')\"\n",
              "            title=\"Suggest charts\"\n",
              "            style=\"display:none;\">\n",
              "\n",
              "<svg xmlns=\"http://www.w3.org/2000/svg\" height=\"24px\"viewBox=\"0 0 24 24\"\n",
              "     width=\"24px\">\n",
              "    <g>\n",
              "        <path d=\"M19 3H5c-1.1 0-2 .9-2 2v14c0 1.1.9 2 2 2h14c1.1 0 2-.9 2-2V5c0-1.1-.9-2-2-2zM9 17H7v-7h2v7zm4 0h-2V7h2v10zm4 0h-2v-4h2v4z\"/>\n",
              "    </g>\n",
              "</svg>\n",
              "  </button>\n",
              "\n",
              "<style>\n",
              "  .colab-df-quickchart {\n",
              "      --bg-color: #E8F0FE;\n",
              "      --fill-color: #1967D2;\n",
              "      --hover-bg-color: #E2EBFA;\n",
              "      --hover-fill-color: #174EA6;\n",
              "      --disabled-fill-color: #AAA;\n",
              "      --disabled-bg-color: #DDD;\n",
              "  }\n",
              "\n",
              "  [theme=dark] .colab-df-quickchart {\n",
              "      --bg-color: #3B4455;\n",
              "      --fill-color: #D2E3FC;\n",
              "      --hover-bg-color: #434B5C;\n",
              "      --hover-fill-color: #FFFFFF;\n",
              "      --disabled-bg-color: #3B4455;\n",
              "      --disabled-fill-color: #666;\n",
              "  }\n",
              "\n",
              "  .colab-df-quickchart {\n",
              "    background-color: var(--bg-color);\n",
              "    border: none;\n",
              "    border-radius: 50%;\n",
              "    cursor: pointer;\n",
              "    display: none;\n",
              "    fill: var(--fill-color);\n",
              "    height: 32px;\n",
              "    padding: 0;\n",
              "    width: 32px;\n",
              "  }\n",
              "\n",
              "  .colab-df-quickchart:hover {\n",
              "    background-color: var(--hover-bg-color);\n",
              "    box-shadow: 0 1px 2px rgba(60, 64, 67, 0.3), 0 1px 3px 1px rgba(60, 64, 67, 0.15);\n",
              "    fill: var(--button-hover-fill-color);\n",
              "  }\n",
              "\n",
              "  .colab-df-quickchart-complete:disabled,\n",
              "  .colab-df-quickchart-complete:disabled:hover {\n",
              "    background-color: var(--disabled-bg-color);\n",
              "    fill: var(--disabled-fill-color);\n",
              "    box-shadow: none;\n",
              "  }\n",
              "\n",
              "  .colab-df-spinner {\n",
              "    border: 2px solid var(--fill-color);\n",
              "    border-color: transparent;\n",
              "    border-bottom-color: var(--fill-color);\n",
              "    animation:\n",
              "      spin 1s steps(1) infinite;\n",
              "  }\n",
              "\n",
              "  @keyframes spin {\n",
              "    0% {\n",
              "      border-color: transparent;\n",
              "      border-bottom-color: var(--fill-color);\n",
              "      border-left-color: var(--fill-color);\n",
              "    }\n",
              "    20% {\n",
              "      border-color: transparent;\n",
              "      border-left-color: var(--fill-color);\n",
              "      border-top-color: var(--fill-color);\n",
              "    }\n",
              "    30% {\n",
              "      border-color: transparent;\n",
              "      border-left-color: var(--fill-color);\n",
              "      border-top-color: var(--fill-color);\n",
              "      border-right-color: var(--fill-color);\n",
              "    }\n",
              "    40% {\n",
              "      border-color: transparent;\n",
              "      border-right-color: var(--fill-color);\n",
              "      border-top-color: var(--fill-color);\n",
              "    }\n",
              "    60% {\n",
              "      border-color: transparent;\n",
              "      border-right-color: var(--fill-color);\n",
              "    }\n",
              "    80% {\n",
              "      border-color: transparent;\n",
              "      border-right-color: var(--fill-color);\n",
              "      border-bottom-color: var(--fill-color);\n",
              "    }\n",
              "    90% {\n",
              "      border-color: transparent;\n",
              "      border-bottom-color: var(--fill-color);\n",
              "    }\n",
              "  }\n",
              "</style>\n",
              "\n",
              "  <script>\n",
              "    async function quickchart(key) {\n",
              "      const quickchartButtonEl =\n",
              "        document.querySelector('#' + key + ' button');\n",
              "      quickchartButtonEl.disabled = true;  // To prevent multiple clicks.\n",
              "      quickchartButtonEl.classList.add('colab-df-spinner');\n",
              "      try {\n",
              "        const charts = await google.colab.kernel.invokeFunction(\n",
              "            'suggestCharts', [key], {});\n",
              "      } catch (error) {\n",
              "        console.error('Error during call to suggestCharts:', error);\n",
              "      }\n",
              "      quickchartButtonEl.classList.remove('colab-df-spinner');\n",
              "      quickchartButtonEl.classList.add('colab-df-quickchart-complete');\n",
              "    }\n",
              "    (() => {\n",
              "      let quickchartButtonEl =\n",
              "        document.querySelector('#df-2f6e528d-a895-4fb9-b8cb-61173bd0d32b button');\n",
              "      quickchartButtonEl.style.display =\n",
              "        google.colab.kernel.accessAllowed ? 'block' : 'none';\n",
              "    })();\n",
              "  </script>\n",
              "</div>\n",
              "\n",
              "    </div>\n",
              "  </div>\n"
            ],
            "application/vnd.google.colaboratory.intrinsic+json": {
              "type": "dataframe",
              "variable_name": "df",
              "summary": "{\n  \"name\": \"df\",\n  \"rows\": 1712,\n  \"fields\": [\n    {\n      \"column\": \"Ticker\",\n      \"properties\": {\n        \"dtype\": \"category\",\n        \"num_unique_values\": 12,\n        \"samples\": [\n          \"CL=F\",\n          \"GC=F\",\n          \"^NSEI\"\n        ],\n        \"semantic_type\": \"\",\n        \"description\": \"\"\n      }\n    },\n    {\n      \"column\": \"Date\",\n      \"properties\": {\n        \"dtype\": \"object\",\n        \"num_unique_values\": 150,\n        \"samples\": [\n          \"2023-04-13\",\n          \"2023-01-26\",\n          \"2023-06-15\"\n        ],\n        \"semantic_type\": \"\",\n        \"description\": \"\"\n      }\n    },\n    {\n      \"column\": \"Open\",\n      \"properties\": {\n        \"dtype\": \"number\",\n        \"std\": 17378.034853986206,\n        \"min\": 66.62000274658203,\n        \"max\": 67074.34375,\n        \"num_unique_values\": 1694,\n        \"samples\": [\n          19427.099609375,\n          32648.140625,\n          3202.699951171875\n        ],\n        \"semantic_type\": \"\",\n        \"description\": \"\"\n      }\n    },\n    {\n      \"column\": \"High\",\n      \"properties\": {\n        \"dtype\": \"number\",\n        \"std\": 17451.738583044815,\n        \"min\": 67.69999694824219,\n        \"max\": 67619.171875,\n        \"num_unique_values\": 1693,\n        \"samples\": [\n          7642.39990234375,\n          66351.21875,\n          19567.0\n        ],\n        \"semantic_type\": \"\",\n        \"description\": \"\"\n      }\n    },\n    {\n      \"column\": \"Low\",\n      \"properties\": {\n        \"dtype\": \"number\",\n        \"std\": 17294.245722361622,\n        \"min\": 63.63999938964844,\n        \"max\": 66831.3828125,\n        \"num_unique_values\": 1693,\n        \"samples\": [\n          70.12999725341797,\n          65878.6484375,\n          14012.240234375\n        ],\n        \"semantic_type\": \"\",\n        \"description\": \"\"\n      }\n    },\n    {\n      \"column\": \"Close\",\n      \"properties\": {\n        \"dtype\": \"number\",\n        \"std\": 17377.851421762472,\n        \"min\": 66.73999786376953,\n        \"max\": 67571.8984375,\n        \"num_unique_values\": 1696,\n        \"samples\": [\n          3250.550048828125,\n          15883.5595703125,\n          33296.9609375\n        ],\n        \"semantic_type\": \"\",\n        \"description\": \"\"\n      }\n    },\n    {\n      \"column\": \"Adj Close\",\n      \"properties\": {\n        \"dtype\": \"number\",\n        \"std\": 17377.851421762472,\n        \"min\": 66.73999786376953,\n        \"max\": 67571.8984375,\n        \"num_unique_values\": 1696,\n        \"samples\": [\n          3250.550048828125,\n          15883.5595703125,\n          33296.9609375\n        ],\n        \"semantic_type\": \"\",\n        \"description\": \"\"\n      }\n    },\n    {\n      \"column\": \"Volume\",\n      \"properties\": {\n        \"dtype\": \"number\",\n        \"std\": 1918290662.8642945,\n        \"min\": 0.0,\n        \"max\": 9354280000.0,\n        \"num_unique_values\": 1437,\n        \"samples\": [\n          862536800.0,\n          62300000.0,\n          296900.0\n        ],\n        \"semantic_type\": \"\",\n        \"description\": \"\"\n      }\n    }\n  ]\n}"
            }
          },
          "metadata": {},
          "execution_count": 15
        }
      ],
      "source": [
        "url = '/content/2023_Global_Markets_Data.csv'\n",
        "df = pd.read_csv(url)\n",
        "\n",
        "df.head()"
      ]
    },
    {
      "cell_type": "code",
      "source": [
        "X = df.drop('Ticker', axis=1)\n",
        "y = df['Ticker']"
      ],
      "metadata": {
        "id": "noFSM97JuUqL"
      },
      "execution_count": null,
      "outputs": []
    },
    {
      "cell_type": "code",
      "source": [
        "X_array = X.select_dtypes(include=np.number).values\n",
        "initial_medoids = np.random.choice(len(X_array), 3, replace=False)\n",
        "kmedoids_instance = kmedoids(X_array, initial_medoids)\n",
        "kmedoids_instance.process()\n",
        "clusters = kmedoids_instance.get_clusters()\n",
        "\n",
        "print(\"Clusters:\", clusters)"
      ],
      "metadata": {
        "colab": {
          "base_uri": "https://localhost:8080/"
        },
        "id": "s7eysKC0ydHs",
        "outputId": "5cb18579-831a-4312-b8d0-e68bd3cf56c1"
      },
      "execution_count": null,
      "outputs": [
        {
          "output_type": "stream",
          "name": "stdout",
          "text": [
            "Clusters: [[0, 1, 2, 5, 6, 7, 8, 9, 10, 12, 13, 16, 17, 18, 19, 20, 21, 22, 24, 25, 28, 29, 30, 31, 32, 33, 34, 36, 37, 40, 41, 42, 43, 44, 45, 46, 48, 49, 52, 53, 54, 55, 56, 57, 59, 60, 63, 64, 65, 66, 67, 68, 69, 71, 72, 75, 76, 77, 78, 79, 80, 81, 83, 84, 87, 88, 89, 90, 91, 92, 93, 95, 96, 99, 100, 101, 102, 103, 104, 105, 107, 108, 109, 110, 111, 112, 113, 114, 117, 118, 119, 120, 121, 122, 123, 125, 126, 129, 130, 131, 132, 133, 134, 135, 137, 138, 141, 142, 143, 144, 145, 146, 147, 149, 150, 153, 154, 155, 156, 157, 158, 159, 161, 162, 165, 166, 167, 168, 169, 170, 172, 173, 176, 177, 178, 179, 180, 181, 183, 184, 187, 188, 189, 190, 191, 192, 194, 195, 198, 199, 200, 201, 203, 204, 207, 208, 209, 210, 211, 212, 214, 215, 218, 219, 220, 221, 222, 223, 224, 226, 227, 230, 231, 232, 233, 234, 235, 236, 238, 239, 242, 243, 244, 245, 246, 247, 248, 250, 251, 254, 255, 256, 257, 258, 259, 260, 262, 263, 266, 267, 268, 269, 270, 271, 272, 274, 275, 278, 279, 280, 281, 282, 283, 284, 286, 287, 290, 291, 292, 293, 294, 295, 296, 298, 299, 302, 303, 304, 305, 306, 307, 308, 310, 311, 314, 315, 316, 317, 318, 319, 320, 322, 323, 326, 327, 328, 329, 330, 331, 332, 334, 335, 338, 339, 340, 341, 342, 343, 344, 346, 347, 350, 351, 352, 353, 354, 355, 356, 358, 359, 362, 363, 364, 365, 366, 367, 368, 370, 371, 374, 375, 376, 377, 378, 379, 380, 382, 383, 386, 387, 388, 389, 390, 391, 392, 394, 395, 396, 397, 398, 399, 400, 401, 404, 405, 406, 407, 408, 409, 410, 412, 413, 416, 417, 418, 419, 420, 421, 422, 424, 425, 428, 429, 430, 431, 432, 433, 435, 436, 439, 440, 441, 442, 443, 444, 445, 447, 448, 451, 452, 453, 454, 455, 456, 457, 459, 460, 463, 464, 465, 466, 467, 468, 469, 471, 472, 475, 476, 477, 478, 479, 480, 481, 483, 484, 487, 488, 489, 490, 491, 492, 493, 495, 496, 499, 500, 501, 502, 503, 504, 505, 507, 508, 511, 512, 513, 514, 515, 516, 517, 519, 520, 523, 524, 525, 526, 527, 529, 530, 533, 534, 535, 536, 537, 538, 539, 541, 542, 545, 546, 547, 548, 549, 550, 551, 553, 554, 557, 558, 559, 560, 561, 562, 563, 565, 566, 569, 570, 571, 572, 573, 574, 575, 577, 578, 581, 582, 583, 584, 585, 586, 587, 589, 590, 593, 594, 595, 596, 597, 598, 599, 601, 602, 605, 606, 607, 608, 609, 610, 611, 613, 614, 618, 619, 620, 621, 622, 623, 625, 626, 629, 630, 631, 632, 633, 634, 635, 637, 638, 641, 642, 643, 644, 645, 646, 648, 649, 652, 653, 654, 655, 656, 657, 658, 660, 661, 664, 665, 666, 667, 668, 669, 670, 672, 673, 676, 677, 678, 679, 680, 681, 682, 684, 685, 688, 689, 690, 691, 692, 693, 694, 696, 697, 700, 701, 702, 703, 704, 705, 706, 708, 709, 712, 713, 714, 715, 716, 717, 718, 720, 721, 724, 725, 726, 727, 728, 730, 731, 734, 735, 736, 737, 738, 739, 740, 742, 743, 746, 747, 748, 749, 750, 751, 752, 754, 755, 758, 759, 760, 761, 762, 764, 765, 768, 769, 770, 771, 772, 773, 775, 776, 779, 780, 781, 782, 783, 784, 785, 787, 788, 789, 790, 793, 794, 795, 796, 797, 799, 800, 803, 804, 805, 806, 807, 808, 809, 811, 812, 815, 816, 817, 818, 819, 820, 821, 823, 824, 827, 828, 829, 830, 831, 832, 833, 835, 836, 839, 840, 841, 842, 843, 845, 846, 849, 850, 851, 852, 853, 854, 855, 857, 858, 861, 862, 863, 864, 865, 866, 867, 869, 870, 873, 874, 875, 876, 877, 878, 879, 881, 882, 885, 886, 887, 888, 889, 890, 891, 893, 894, 897, 898, 899, 900, 901, 902, 903, 905, 906, 909, 910, 911, 912, 913, 914, 915, 917, 918, 921, 922, 923, 924, 925, 926, 927, 929, 930, 933, 934, 935, 936, 937, 938, 939, 941, 942, 945, 946, 947, 948, 949, 950, 951, 953, 954, 957, 958, 959, 960, 961, 962, 963, 965, 966, 969, 970, 972, 973, 976, 977, 978, 979, 980, 981, 983, 984, 987, 988, 989, 990, 991, 993, 994, 997, 998, 999, 1000, 1001, 1002, 1004, 1005, 1008, 1009, 1010, 1011, 1012, 1013, 1015, 1016, 1019, 1020, 1021, 1022, 1023, 1024, 1026, 1027, 1030, 1031, 1032, 1033, 1034, 1035, 1036, 1038, 1039, 1042, 1043, 1044, 1045, 1046, 1047, 1048, 1050, 1051, 1054, 1055, 1056, 1057, 1058, 1059, 1060, 1062, 1063, 1066, 1067, 1068, 1069, 1070, 1071, 1072, 1074, 1075, 1078, 1079, 1080, 1081, 1082, 1083, 1084, 1086, 1087, 1090, 1091, 1092, 1093, 1094, 1095, 1096, 1098, 1099, 1102, 1103, 1104, 1105, 1106, 1107, 1108, 1110, 1111, 1114, 1115, 1116, 1117, 1118, 1119, 1120, 1122, 1123, 1126, 1127, 1128, 1129, 1130, 1131, 1132, 1134, 1135, 1138, 1139, 1140, 1141, 1142, 1143, 1144, 1146, 1147, 1150, 1151, 1152, 1153, 1154, 1155, 1156, 1158, 1159, 1162, 1163, 1164, 1165, 1166, 1167, 1168, 1170, 1171, 1174, 1175, 1176, 1177, 1178, 1179, 1180, 1182, 1183, 1186, 1187, 1188, 1189, 1190, 1191, 1192, 1194, 1195, 1196, 1197, 1198, 1199, 1200, 1203, 1204, 1205, 1206, 1207, 1208, 1209, 1211, 1212, 1216, 1217, 1218, 1219, 1220, 1221, 1223, 1224, 1227, 1228, 1229, 1230, 1231, 1232, 1233, 1235, 1236, 1239, 1240, 1241, 1242, 1243, 1244, 1245, 1247, 1248, 1251, 1252, 1253, 1254, 1255, 1256, 1257, 1259, 1260, 1263, 1264, 1265, 1266, 1267, 1268, 1269, 1271, 1272, 1275, 1276, 1277, 1278, 1279, 1280, 1281, 1283, 1284, 1287, 1288, 1289, 1290, 1291, 1292, 1293, 1295, 1296, 1299, 1300, 1301, 1302, 1303, 1304, 1305, 1307, 1308, 1311, 1312, 1313, 1314, 1315, 1316, 1317, 1319, 1320, 1323, 1324, 1325, 1326, 1327, 1328, 1329, 1331, 1332, 1335, 1336, 1337, 1338, 1339, 1340, 1341, 1343, 1344, 1347, 1348, 1349, 1350, 1351, 1352, 1353, 1355, 1356, 1359, 1360, 1361, 1362, 1363, 1364, 1365, 1367, 1368, 1369, 1370, 1371, 1372, 1373, 1374, 1377, 1378, 1379, 1380, 1381, 1382, 1383, 1385, 1386, 1389, 1390, 1391, 1392, 1393, 1394, 1395, 1397, 1398, 1401, 1402, 1403, 1404, 1405, 1406, 1408, 1409, 1412, 1413, 1414, 1415, 1416, 1417, 1419, 1420, 1423, 1424, 1425, 1426, 1427, 1428, 1429, 1431, 1432, 1435, 1436, 1437, 1438, 1439, 1440, 1441, 1443, 1444, 1447, 1448, 1449, 1450, 1451, 1452, 1453, 1455, 1456, 1459, 1460, 1461, 1462, 1463, 1465, 1466, 1469, 1470, 1471, 1472, 1473, 1474, 1475, 1477, 1478, 1479, 1481, 1482, 1483, 1484, 1485, 1486, 1487, 1488, 1489, 1490, 1491, 1492, 1493, 1494, 1495, 1496, 1499, 1500, 1501, 1502, 1503, 1504, 1505, 1507, 1508, 1511, 1512, 1513, 1514, 1515, 1516, 1517, 1519, 1520, 1523, 1524, 1525, 1526, 1527, 1528, 1529, 1531, 1532, 1535, 1536, 1537, 1538, 1539, 1540, 1541, 1543, 1544, 1547, 1548, 1549, 1550, 1551, 1552, 1553, 1555, 1556, 1559, 1560, 1561, 1562, 1563, 1564, 1565, 1567, 1568, 1571, 1572, 1573, 1574, 1575, 1576, 1577, 1579, 1580, 1583, 1584, 1585, 1586, 1587, 1588, 1589, 1591, 1592, 1595, 1596, 1597, 1598, 1599, 1600, 1602, 1603, 1606, 1607, 1608, 1609, 1610, 1611, 1612, 1614, 1615, 1618, 1619, 1620, 1621, 1622, 1623, 1624, 1626, 1627, 1630, 1631, 1632, 1633, 1634, 1635, 1636, 1638, 1639, 1642, 1643, 1644, 1645, 1646, 1647, 1648, 1650, 1651, 1654, 1655, 1656, 1657, 1658, 1659, 1660, 1662, 1663, 1666, 1667, 1668, 1669, 1670, 1671, 1672, 1674, 1675, 1678, 1679, 1680, 1681, 1682, 1683, 1684, 1686, 1687, 1690, 1691, 1692, 1693, 1694, 1695, 1696, 1698, 1699, 1702, 1703, 1704, 1705, 1707, 1708, 1710, 1711], [3, 11, 14, 23, 26, 35, 38, 47, 50, 58, 61, 62, 70, 73, 82, 85, 94, 97, 106, 115, 124, 127, 136, 139, 140, 148, 151, 160, 163, 171, 174, 182, 185, 193, 196, 202, 205, 213, 216, 225, 228, 237, 264, 273, 276, 285, 288, 297, 300, 309, 312, 321, 324, 333, 336, 337, 345, 348, 357, 360, 369, 372, 381, 384, 393, 402, 411, 414, 415, 423, 426, 427, 434, 437, 438, 446, 449, 450, 458, 473, 482, 485, 494, 497, 506, 509, 518, 521, 528, 531, 540, 543, 552, 617, 650, 659, 674, 675, 683, 686, 687, 695, 698, 699, 707, 710, 711, 719, 722, 723, 729, 732, 741, 744, 753, 756, 757, 763, 766, 767, 774, 777, 778, 786, 791, 792, 798, 801, 802, 810, 813, 822, 825, 834, 837, 838, 844, 847, 856, 859, 868, 871, 880, 883, 884, 892, 895, 904, 907, 916, 919, 928, 931, 940, 943, 952, 955, 964, 967, 971, 974, 982, 985, 992, 996, 1006, 1007, 1014, 1017, 1018, 1025, 1028, 1029, 1037, 1040, 1049, 1052, 1053, 1061, 1064, 1065, 1073, 1076, 1077, 1085, 1088, 1089, 1097, 1100, 1101, 1109, 1112, 1113, 1121, 1124, 1125, 1133, 1136, 1137, 1145, 1148, 1149, 1157, 1160, 1161, 1169, 1172, 1173, 1181, 1184, 1185, 1193, 1201, 1210, 1215, 1225, 1226, 1234, 1237, 1238, 1246, 1249, 1250, 1258, 1261, 1270, 1273, 1282, 1285, 1286, 1294, 1297, 1298, 1306, 1309, 1310, 1318, 1321, 1330, 1333, 1342, 1345, 1354, 1375, 1384, 1387, 1396, 1399, 1400, 1407, 1421, 1422, 1430, 1433, 1442, 1445, 1446, 1454, 1457, 1458, 1464, 1467, 1468, 1476, 1480, 1497, 1506, 1509, 1518, 1521, 1530, 1533, 1542, 1545, 1554, 1557, 1566, 1569, 1578, 1581, 1590, 1593, 1594, 1601, 1604, 1613, 1616, 1625, 1628, 1637, 1640, 1649, 1652, 1653, 1661, 1664, 1665, 1673, 1676, 1677, 1685, 1688, 1697, 1700, 1701, 1706, 1709], [4, 15, 27, 39, 51, 74, 86, 98, 116, 128, 152, 164, 175, 186, 197, 206, 217, 229, 240, 241, 249, 252, 253, 261, 265, 277, 289, 301, 313, 325, 349, 361, 373, 385, 403, 461, 462, 470, 474, 486, 498, 510, 522, 532, 544, 555, 556, 564, 567, 568, 576, 579, 580, 588, 591, 592, 600, 603, 604, 612, 615, 616, 624, 627, 628, 636, 639, 640, 647, 651, 662, 663, 671, 733, 745, 814, 826, 848, 860, 872, 896, 908, 920, 932, 944, 956, 968, 975, 986, 995, 1003, 1041, 1202, 1213, 1214, 1222, 1262, 1274, 1322, 1334, 1346, 1357, 1358, 1366, 1376, 1388, 1410, 1411, 1418, 1434, 1498, 1510, 1522, 1534, 1546, 1558, 1570, 1582, 1605, 1617, 1629, 1641, 1689]]\n"
          ]
        }
      ]
    },
    {
      "cell_type": "code",
      "source": [
        "# K-Nearest Neighbors (KNN) Classifier\n",
        "knn_model = KNeighborsClassifier(n_neighbors=5)\n",
        "knn_model.fit(X_train_scaled, y_train)\n",
        "\n",
        "y_pred_knn = knn_model.predict(X_test_scaled)\n",
        "\n",
        "knn_accuracy = accuracy_score(y_test, y_pred_knn)\n",
        "print(f'KNN Accuracy: {knn_accuracy * 100:.2f}%')\n",
        "print(\"\\nKNN Classification Report:\")\n",
        "print(classification_report(y_test, y_pred_knn))\n"
      ],
      "metadata": {
        "colab": {
          "base_uri": "https://localhost:8080/"
        },
        "id": "L_Rk3R2e2-e5",
        "outputId": "6b38d960-58dc-460a-be87-1eff18a565ee"
      },
      "execution_count": 58,
      "outputs": [
        {
          "output_type": "stream",
          "name": "stdout",
          "text": [
            "KNN Accuracy: 98.83%\n",
            "\n",
            "KNN Classification Report:\n",
            "              precision    recall  f1-score   support\n",
            "\n",
            "   000001.SS       1.00      0.97      0.98        29\n",
            "        CL=F       1.00      1.00      1.00        32\n",
            "        GC=F       1.00      1.00      1.00        37\n",
            "      ^BSESN       1.00      1.00      1.00        33\n",
            "        ^DJI       1.00      1.00      1.00        37\n",
            "       ^FTSE       1.00      1.00      1.00        40\n",
            "       ^GSPC       0.97      1.00      0.99        33\n",
            "       ^IXIC       0.93      0.97      0.95        38\n",
            "       ^N100       1.00      1.00      1.00        32\n",
            "       ^N225       1.00      1.00      1.00        44\n",
            "       ^NSEI       1.00      1.00      1.00        39\n",
            "        ^NYA       0.97      0.91      0.94        34\n",
            "\n",
            "    accuracy                           0.99       428\n",
            "   macro avg       0.99      0.99      0.99       428\n",
            "weighted avg       0.99      0.99      0.99       428\n",
            "\n"
          ]
        }
      ]
    },
    {
      "cell_type": "code",
      "source": [
        "# Decision Tree Classifier\n",
        "dt_model = DecisionTreeClassifier(random_state=42)\n",
        "dt_model.fit(X_train, y_train)\n",
        "\n",
        "y_pred_dt = dt_model.predict(X_test)\n",
        "\n",
        "dt_accuracy = accuracy_score(y_test, y_pred_dt)\n",
        "print(f'Decision Tree Accuracy: {dt_accuracy * 100:.2f}%')\n",
        "print(\"\\nDecision Tree Classification Report:\")\n",
        "print(classification_report(y_test, y_pred_dt))\n"
      ],
      "metadata": {
        "id": "sN5XGB3f3StA",
        "colab": {
          "base_uri": "https://localhost:8080/"
        },
        "outputId": "72473c9e-6f6d-4e38-8067-918d421539b3"
      },
      "execution_count": 57,
      "outputs": [
        {
          "output_type": "stream",
          "name": "stdout",
          "text": [
            "Decision Tree Accuracy: 100.00%\n",
            "\n",
            "Decision Tree Classification Report:\n",
            "              precision    recall  f1-score   support\n",
            "\n",
            "   000001.SS       1.00      1.00      1.00        29\n",
            "        CL=F       1.00      1.00      1.00        32\n",
            "        GC=F       1.00      1.00      1.00        37\n",
            "      ^BSESN       1.00      1.00      1.00        33\n",
            "        ^DJI       1.00      1.00      1.00        37\n",
            "       ^FTSE       1.00      1.00      1.00        40\n",
            "       ^GSPC       1.00      1.00      1.00        33\n",
            "       ^IXIC       1.00      1.00      1.00        38\n",
            "       ^N100       1.00      1.00      1.00        32\n",
            "       ^N225       1.00      1.00      1.00        44\n",
            "       ^NSEI       1.00      1.00      1.00        39\n",
            "        ^NYA       1.00      1.00      1.00        34\n",
            "\n",
            "    accuracy                           1.00       428\n",
            "   macro avg       1.00      1.00      1.00       428\n",
            "weighted avg       1.00      1.00      1.00       428\n",
            "\n"
          ]
        }
      ]
    },
    {
      "cell_type": "code",
      "source": [
        "# Random Forest Classifier\n",
        "rf_model = RandomForestClassifier(random_state=42)\n",
        "rf_model.fit(X_train, y_train)\n",
        "\n",
        "y_pred_rf = rf_model.predict(X_test)\n",
        "\n",
        "rf_accuracy = accuracy_score(y_test, y_pred_rf)\n",
        "print(f'Random Forest Accuracy: {rf_accuracy * 100:.2f}%')\n",
        "print(\"\\nRandom Forest Classification Report:\")\n",
        "print(classification_report(y_test, y_pred_rf))\n"
      ],
      "metadata": {
        "colab": {
          "base_uri": "https://localhost:8080/"
        },
        "id": "uzQU0SWn4wJN",
        "outputId": "a6d7308e-d8a1-419a-ea06-4b7cbd095cf5"
      },
      "execution_count": 56,
      "outputs": [
        {
          "output_type": "stream",
          "name": "stdout",
          "text": [
            "Random Forest Accuracy: 100.00%\n",
            "\n",
            "Random Forest Classification Report:\n",
            "              precision    recall  f1-score   support\n",
            "\n",
            "   000001.SS       1.00      1.00      1.00        29\n",
            "        CL=F       1.00      1.00      1.00        32\n",
            "        GC=F       1.00      1.00      1.00        37\n",
            "      ^BSESN       1.00      1.00      1.00        33\n",
            "        ^DJI       1.00      1.00      1.00        37\n",
            "       ^FTSE       1.00      1.00      1.00        40\n",
            "       ^GSPC       1.00      1.00      1.00        33\n",
            "       ^IXIC       1.00      1.00      1.00        38\n",
            "       ^N100       1.00      1.00      1.00        32\n",
            "       ^N225       1.00      1.00      1.00        44\n",
            "       ^NSEI       1.00      1.00      1.00        39\n",
            "        ^NYA       1.00      1.00      1.00        34\n",
            "\n",
            "    accuracy                           1.00       428\n",
            "   macro avg       1.00      1.00      1.00       428\n",
            "weighted avg       1.00      1.00      1.00       428\n",
            "\n"
          ]
        }
      ]
    },
    {
      "cell_type": "code",
      "source": [
        "# Support Vector Machine (SVM) Classifier\n",
        "svm_model = SVC(random_state=42)\n",
        "svm_model.fit(X_train_scaled, y_train)\n",
        "\n",
        "y_pred_svm = svm_model.predict(X_test_scaled)\n",
        "\n",
        "svm_accuracy = accuracy_score(y_test, y_pred_svm)\n",
        "print(f'SVM Accuracy: {svm_accuracy * 100:.2f}%')\n",
        "print(\"\\nSVM Classification Report:\")\n",
        "print(classification_report(y_test, y_pred_svm))\n"
      ],
      "metadata": {
        "colab": {
          "base_uri": "https://localhost:8080/"
        },
        "id": "i74WiXCM5mje",
        "outputId": "d404d1e7-4d42-4b3c-f4d0-e3f9b2418718"
      },
      "execution_count": 55,
      "outputs": [
        {
          "output_type": "stream",
          "name": "stdout",
          "text": [
            "SVM Accuracy: 85.75%\n",
            "\n",
            "SVM Classification Report:\n",
            "              precision    recall  f1-score   support\n",
            "\n",
            "   000001.SS       1.00      0.97      0.98        29\n",
            "        CL=F       1.00      1.00      1.00        32\n",
            "        GC=F       0.00      0.00      0.00        37\n",
            "      ^BSESN       1.00      1.00      1.00        33\n",
            "        ^DJI       0.69      1.00      0.81        37\n",
            "       ^FTSE       1.00      1.00      1.00        40\n",
            "       ^GSPC       0.97      1.00      0.99        33\n",
            "       ^IXIC       0.90      0.95      0.92        38\n",
            "       ^N100       0.46      1.00      0.63        32\n",
            "       ^N225       1.00      0.61      0.76        44\n",
            "       ^NSEI       1.00      1.00      1.00        39\n",
            "        ^NYA       0.94      0.88      0.91        34\n",
            "\n",
            "    accuracy                           0.86       428\n",
            "   macro avg       0.83      0.87      0.83       428\n",
            "weighted avg       0.83      0.86      0.83       428\n",
            "\n"
          ]
        },
        {
          "output_type": "stream",
          "name": "stderr",
          "text": [
            "/usr/local/lib/python3.10/dist-packages/sklearn/metrics/_classification.py:1531: UndefinedMetricWarning: Precision is ill-defined and being set to 0.0 in labels with no predicted samples. Use `zero_division` parameter to control this behavior.\n",
            "  _warn_prf(average, modifier, f\"{metric.capitalize()} is\", len(result))\n",
            "/usr/local/lib/python3.10/dist-packages/sklearn/metrics/_classification.py:1531: UndefinedMetricWarning: Precision is ill-defined and being set to 0.0 in labels with no predicted samples. Use `zero_division` parameter to control this behavior.\n",
            "  _warn_prf(average, modifier, f\"{metric.capitalize()} is\", len(result))\n",
            "/usr/local/lib/python3.10/dist-packages/sklearn/metrics/_classification.py:1531: UndefinedMetricWarning: Precision is ill-defined and being set to 0.0 in labels with no predicted samples. Use `zero_division` parameter to control this behavior.\n",
            "  _warn_prf(average, modifier, f\"{metric.capitalize()} is\", len(result))\n"
          ]
        }
      ]
    },
    {
      "cell_type": "code",
      "source": [
        "# Model Comparison Visualization\n",
        "models = ['KNN', 'Decision Tree', 'Random Forest', 'SVM']\n",
        "accuracies = [accuracy_knn, accuracy_dt, accuracy_rf, accuracy_svm]\n",
        "\n",
        "plt.figure(figsize=(10, 6))\n",
        "sns.barplot(x=models, y=accuracies, palette='Blues')\n",
        "plt.title('Model Comparison')\n",
        "plt.ylabel('Accuracy')\n",
        "plt.show()"
      ],
      "metadata": {
        "colab": {
          "base_uri": "https://localhost:8080/",
          "height": 632
        },
        "id": "GOS9XK3y40Bj",
        "outputId": "3870ed0d-4cb2-4014-db8c-fd36d7f36801"
      },
      "execution_count": 60,
      "outputs": [
        {
          "output_type": "stream",
          "name": "stderr",
          "text": [
            "<ipython-input-60-6e640b1dbee9>:6: FutureWarning: \n",
            "\n",
            "Passing `palette` without assigning `hue` is deprecated and will be removed in v0.14.0. Assign the `x` variable to `hue` and set `legend=False` for the same effect.\n",
            "\n",
            "  sns.barplot(x=models, y=accuracies, palette='Blues')\n"
          ]
        },
        {
          "output_type": "display_data",
          "data": {
            "text/plain": [
              "<Figure size 1000x600 with 1 Axes>"
            ],
            "image/png": "[encoded data removed]"
          },
          "metadata": {}
        }
      ]
    }
  ]
}